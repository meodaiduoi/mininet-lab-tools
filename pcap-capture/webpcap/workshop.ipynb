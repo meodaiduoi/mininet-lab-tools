{
 "cells": [
  {
   "cell_type": "code",
   "execution_count": 1,
   "metadata": {},
   "outputs": [],
   "source": [
    "from selenium import webdriver\n",
    "from selenium.webdriver.support.ui import WebDriverWait\n",
    "from selenium.webdriver.support import expected_conditions as EC\n",
    "from selenium.webdriver.common.by import By\n",
    "from selenium.common.exceptions import TimeoutException"
   ]
  },
  {
   "cell_type": "code",
   "execution_count": 3,
   "metadata": {},
   "outputs": [
    {
     "name": "stdout",
     "output_type": "stream",
     "text": [
      "Page is ready!\n"
     ]
    }
   ],
   "source": [
    "browser = webdriver.Firefox()\n",
    "browser.get(\"https://www.youtube.com/watch?v=jpvuiX14-cg\")\n",
    "delay = 20 # seconds\n",
    "try:\n",
    "    myElem = WebDriverWait(browser, delay).until(EC.presence_of_element_located((By.CLASS_NAME, 'html5-main-video')))\n",
    "    print(\"Page is ready!\")\n",
    "    \n",
    "except TimeoutException:\n",
    "    print(\"Loading took too much time!\")"
   ]
  },
  {
   "cell_type": "code",
   "execution_count": 2,
   "metadata": {},
   "outputs": [],
   "source": [
    "import subprocess\n",
    "def pcap_capture():\n",
    "    cmd = 'tshark -i enp0s3 -w /home/pcap-capture/google-service/workshop/pcap/pcap.pcap'\n",
    "    subprocess.Popen(cmd, shell=True, stdout=subprocess.PIPE, stderr=subprocess.PIPE).communicate()"
   ]
  },
  {
   "cell_type": "code",
   "execution_count": 4,
   "metadata": {},
   "outputs": [
    {
     "ename": "AttributeError",
     "evalue": "'NoneType' object has no attribute 'find_element'",
     "output_type": "error",
     "traceback": [
      "\u001b[0;31m---------------------------------------------------------------------------\u001b[0m",
      "\u001b[0;31mAttributeError\u001b[0m                            Traceback (most recent call last)",
      "Cell \u001b[0;32mIn[4], line 27\u001b[0m\n\u001b[1;32m     24\u001b[0m         \u001b[39msuper\u001b[39m()\u001b[39m.\u001b[39mload()\n\u001b[1;32m     25\u001b[0m         \u001b[39m# super.browser.execute_script(\"document.getElementsByTagName('video')[0].play()\")\u001b[39;00m\n\u001b[0;32m---> 27\u001b[0m YoutubePageLoader(\u001b[39m\"\u001b[39;49m\u001b[39mhttps://www.youtube.com/watch?v=jpvuiX14-cg\u001b[39;49m\u001b[39m\"\u001b[39;49m)\u001b[39m.\u001b[39;49mload()\n",
      "Cell \u001b[0;32mIn[4], line 24\u001b[0m, in \u001b[0;36mYoutubePageLoader.load\u001b[0;34m(self)\u001b[0m\n\u001b[1;32m     23\u001b[0m \u001b[39mdef\u001b[39;00m \u001b[39mload\u001b[39m(\u001b[39mself\u001b[39m):\n\u001b[0;32m---> 24\u001b[0m     \u001b[39msuper\u001b[39;49m()\u001b[39m.\u001b[39;49mload()\n",
      "Cell \u001b[0;32mIn[4], line 11\u001b[0m, in \u001b[0;36mPageLoader.load\u001b[0;34m(self)\u001b[0m\n\u001b[1;32m      9\u001b[0m     driver\u001b[39m=\u001b[39mwebdriver\u001b[39m.\u001b[39mFirefox()\u001b[39m.\u001b[39mget(\u001b[39mself\u001b[39m\u001b[39m.\u001b[39murl)\n\u001b[1;32m     10\u001b[0m     element_present \u001b[39m=\u001b[39m EC\u001b[39m.\u001b[39mpresence_of_element_located(\u001b[39mself\u001b[39m\u001b[39m.\u001b[39mlocator)\n\u001b[0;32m---> 11\u001b[0m     WebDriverWait(driver, \u001b[39mself\u001b[39;49m\u001b[39m.\u001b[39;49mtimeout)\u001b[39m.\u001b[39;49muntil(element_present)\n\u001b[1;32m     12\u001b[0m     \u001b[39mprint\u001b[39m(\u001b[39m\"\u001b[39m\u001b[39mPage is ready!\u001b[39m\u001b[39m\"\u001b[39m)\n\u001b[1;32m     13\u001b[0m \u001b[39mexcept\u001b[39;00m TimeoutException:\n",
      "File \u001b[0;32m~/Documents/Github/venv10/lib/python3.10/site-packages/selenium/webdriver/support/wait.py:86\u001b[0m, in \u001b[0;36mWebDriverWait.until\u001b[0;34m(self, method, message)\u001b[0m\n\u001b[1;32m     84\u001b[0m \u001b[39mwhile\u001b[39;00m \u001b[39mTrue\u001b[39;00m:\n\u001b[1;32m     85\u001b[0m     \u001b[39mtry\u001b[39;00m:\n\u001b[0;32m---> 86\u001b[0m         value \u001b[39m=\u001b[39m method(\u001b[39mself\u001b[39;49m\u001b[39m.\u001b[39;49m_driver)\n\u001b[1;32m     87\u001b[0m         \u001b[39mif\u001b[39;00m value:\n\u001b[1;32m     88\u001b[0m             \u001b[39mreturn\u001b[39;00m value\n",
      "File \u001b[0;32m~/Documents/Github/venv10/lib/python3.10/site-packages/selenium/webdriver/support/expected_conditions.py:69\u001b[0m, in \u001b[0;36mpresence_of_element_located.<locals>._predicate\u001b[0;34m(driver)\u001b[0m\n\u001b[1;32m     68\u001b[0m \u001b[39mdef\u001b[39;00m \u001b[39m_predicate\u001b[39m(driver):\n\u001b[0;32m---> 69\u001b[0m     \u001b[39mreturn\u001b[39;00m driver\u001b[39m.\u001b[39;49mfind_element(\u001b[39m*\u001b[39mlocator)\n",
      "\u001b[0;31mAttributeError\u001b[0m: 'NoneType' object has no attribute 'find_element'"
     ]
    }
   ],
   "source": [
    "class PageLoader:\n",
    "    def __init__(self, url, locator, timeout=20) -> None:\n",
    "        self.url = url\n",
    "        self.locator = locator # exameple: (By.CLASS_NAME, 'html5-main-video')\n",
    "        self.timeout = timeout\n",
    "\n",
    "    def load(self):\n",
    "        try:\n",
    "            driver=webdriver.Firefox().get(self.url)\n",
    "            element_present = EC.presence_of_element_located(self.locator)\n",
    "            WebDriverWait(driver, self.timeout).until(element_present)\n",
    "            print(\"Page is ready!\")\n",
    "        except TimeoutException:\n",
    "            print(\"Timed out waiting for page to load\")\n",
    "            driver.close()\n",
    "\n",
    "# PageLoader(\"https://www.youtube.com/watch?v=jpvuiX14-cg\").load()\n",
    "\n",
    "class YoutubePageLoader(PageLoader):\n",
    "    def __init__(self, url, timeout=20) :\n",
    "        super(YoutubePageLoader, self).__init__(url, (By.CLASS_NAME, 'ytd-comments-header-renderer'), timeout)\n",
    "\n",
    "    def load(self):\n",
    "        super().load()\n",
    "        # super.browser.execute_script(\"document.getElementsByTagName('video')[0].play()\")\n",
    "\n",
    "YoutubePageLoader(\"https://www.youtube.com/watch?v=jpvuiX14-cg\").load()"
   ]
  },
  {
   "cell_type": "code",
   "execution_count": 7,
   "metadata": {},
   "outputs": [
    {
     "name": "stdout",
     "output_type": "stream",
     "text": [
      "Page is ready!\n"
     ]
    }
   ],
   "source": [
    "from selenium import webdriver\n",
    "from selenium.webdriver.common.by import By\n",
    "from selenium.webdriver.support.ui import WebDriverWait\n",
    "from selenium.common.exceptions import TimeoutException\n",
    "from selenium.webdriver.support import expected_conditions as EC\n",
    "\n",
    "\n",
    "class PageLoader():\n",
    "    def __init__(self, url, locator, delay=3, browser=webdriver.Firefox()):\n",
    "        self.url = url\n",
    "        self.locator = locator\n",
    "        self.browser = browser\n",
    "        self.delay = delay\n",
    "    \n",
    "    def load(self):\n",
    "        try:\n",
    "            res = self.browser.get(self.url)\n",
    "            myElem = WebDriverWait(self.browser, self.delay).until(EC.presence_of_element_located(self.locator))\n",
    "            print(\"Page is ready!\")\n",
    "        except TimeoutException:\n",
    "            print(\"Loading took too much time!\")\n",
    "            self.close()\n",
    "        \n",
    "\n",
    "    def close(self):\n",
    "        self.browser.close()\n",
    "\n",
    "class YoutubePageLoader(PageLoader):\n",
    "    def __init__(self, url, delay=20, browser=webdriver.Firefox()):\n",
    "        super(YoutubePageLoader, self).__init__(url, (By.CLASS_NAME, 'html5-main-video'), delay, browser)\n",
    "\n",
    "YoutubePageLoader(\"https://www.youtube.com/watch?v=jpvuiX14-cg\").load()"
   ]
  },
  {
   "cell_type": "code",
   "execution_count": 27,
   "metadata": {},
   "outputs": [
    {
     "name": "stdout",
     "output_type": "stream",
     "text": [
      "1676149596.7731614\n",
      "1676149596773236031\n"
     ]
    }
   ],
   "source": [
    "import time\n",
    "print(time.time())\n",
    "print(time.time_ns())\n",
    "\n"
   ]
  },
  {
   "cell_type": "code",
   "execution_count": null,
   "metadata": {},
   "outputs": [],
   "source": [
    "import pyvirtualcam\n",
    "import numpy as np\n",
    "\n",
    "with pyvirtualcam.Camera(width=1280, height=720, fps=30) as cam:\n",
    "    while True:\n",
    "        frame = np.zeros((cam.height, cam.width, 4), np.uint8) # RGBA\n",
    "        frame[:,:,:3] = cam.frames_sent % 255 # grayscale animation\n",
    "        frame[:,:,3] = 255\n",
    "        cam.send(frame)\n",
    "        cam.sleep_until_next_frame()\n",
    "        cam.sleep_until_next_frame()"
   ]
  },
  {
   "cell_type": "code",
   "execution_count": 1,
   "metadata": {},
   "outputs": [],
   "source": [
    "from ggservice import YoutubePlayer\n",
    "\n",
    "player = YoutubePlayer('https://www.youtube.com/watch?v=jpvuiX14-cg')\n",
    "# player.load('https://www.youtube.com/watch?v=jpvuiX14-cg')\n",
    "# player.play()\n",
    "\n"
   ]
  },
  {
   "cell_type": "code",
   "execution_count": 3,
   "metadata": {},
   "outputs": [
    {
     "ename": "AttributeError",
     "evalue": "'WebDriver' object has no attribute 'find_elements_by_css_selector'",
     "output_type": "error",
     "traceback": [
      "\u001b[0;31m---------------------------------------------------------------------------\u001b[0m",
      "\u001b[0;31mAttributeError\u001b[0m                            Traceback (most recent call last)",
      "Cell \u001b[0;32mIn[3], line 10\u001b[0m\n\u001b[1;32m      7\u001b[0m driver\u001b[39m.\u001b[39mget(\u001b[39m\"\u001b[39m\u001b[39mhttps://www.youtube.com/live\u001b[39m\u001b[39m\"\u001b[39m)\n\u001b[1;32m      9\u001b[0m \u001b[39m# Find the elements that contain the URLs for the live streams\u001b[39;00m\n\u001b[0;32m---> 10\u001b[0m stream_elements \u001b[39m=\u001b[39m driver\u001b[39m.\u001b[39;49mfind_elements_by_css_selector(\u001b[39m\"\u001b[39m\u001b[39ma[href^=\u001b[39m\u001b[39m'\u001b[39m\u001b[39m/watch?v=\u001b[39m\u001b[39m'\u001b[39m\u001b[39m]\u001b[39m\u001b[39m\"\u001b[39m)\n\u001b[1;32m     12\u001b[0m \u001b[39m# Extract the URLs from the elements\u001b[39;00m\n\u001b[1;32m     13\u001b[0m stream_urls \u001b[39m=\u001b[39m [element\u001b[39m.\u001b[39mget_attribute(\u001b[39m\"\u001b[39m\u001b[39mhref\u001b[39m\u001b[39m\"\u001b[39m) \u001b[39mfor\u001b[39;00m element \u001b[39min\u001b[39;00m stream_elements]\n",
      "\u001b[0;31mAttributeError\u001b[0m: 'WebDriver' object has no attribute 'find_elements_by_css_selector'"
     ]
    }
   ],
   "source": [
    "from selenium import webdriver\n",
    "from selenium.webdriver.chrome.service import Service\n",
    "from selenium.webdriver.common.by import By\n",
    "import time\n",
    "import pandas as pd\n",
    "from selenium.webdriver.support.wait import WebDriverWait\n",
    "from selenium.webdriver.support import expected_conditions as EC\n",
    "\n",
    "options = webdriver.ChromeOptions()\n",
    "#All are optional\n",
    "options.add_experimental_option(\"detach\", True)\n",
    "options.add_argument(\"--disable-extensions\")\n",
    "options.add_argument(\"--disable-notifications\")\n",
    "options.add_argument(\"--disable-Advertisement\")\n",
    "options.add_argument(\"--disable-popup-blocking\")\n",
    "options.add_argument(\"start-maximized\")\n",
    "\n",
    "s=Service('./chromedriver')\n",
    "driver= webdriver.Chrome(service=s,options=options)\n",
    "\n",
    "driver.get('https://www.youtube.com/wendoverproductions/videos')\n",
    "time.sleep(3)\n",
    "\n",
    "item = []\n",
    "SCROLL_PAUSE_TIME = 1\n",
    "last_height = driver.execute_script(\"return document.documentElement.scrollHeight\")\n",
    "\n",
    "item_count = 180\n",
    "\n",
    "while item_count > len(item):\n",
    "    driver.execute_script(\"window.scrollTo(0,document.documentElement.scrollHeight);\")\n",
    "    time.sleep(SCROLL_PAUSE_TIME)\n",
    "    new_height = driver.execute_script(\"return document.documentElement.scrollHeight\")\n",
    "\n",
    "    if new_height == last_height:\n",
    "        break\n",
    "    last_height = new_height\n",
    "    \n",
    "\n",
    "data = []\n",
    "try:\n",
    "    for e in WebDriverWait(driver, 20).until(EC.presence_of_all_elements_located((By.CSS_SELECTOR, 'div#details'))):\n",
    "        title = e.find_element(By.CSS_SELECTOR,'a#video-title-link').get_attribute('title')\n",
    "        vurl = e.find_element(By.CSS_SELECTOR,'a#video-title-link').get_attribute('href')\n",
    "        views= e.find_element(By.XPATH,'.//*[@id=\"metadata\"]//span[@class=\"inline-metadata-item style-scope ytd-video-meta-block\"][1]').text\n",
    "        date_time = e.find_element(By.XPATH,'.//*[@id=\"metadata\"]//span[@class=\"inline-metadata-item style-scope ytd-video-meta-block\"][2]').text\n",
    "        data.append({\n",
    "            'video_url':vurl,\n",
    "            'title':title,\n",
    "            'date_time':date_time,\n",
    "            'views':views\n",
    "            })\n",
    "except:\n",
    "    pass\n",
    "    \n",
    "item = data\n",
    "print(item)\n",
    "print(len(item))\n",
    "pd.DataFrame(item)\n",
    "# print(df)\n"
   ]
  },
  {
   "cell_type": "code",
   "execution_count": 7,
   "metadata": {},
   "outputs": [],
   "source": [
    "from selenium import webdriver\n",
    "\n",
    "# Start the webdriver\n",
    "driver = webdriver.Firefox()\n",
    "\n",
    "# Navigate to the YouTube live streams page\n",
    "driver.get(\"https://www.youtube.com/live\")"
   ]
  },
  {
   "cell_type": "code",
   "execution_count": 10,
   "metadata": {},
   "outputs": [
    {
     "name": "stdout",
     "output_type": "stream",
     "text": [
      "None\n"
     ]
    }
   ],
   "source": [
    "title = driver.find_element(By.CSS_SELECTOR,'a#video-title').get_attribute('lable')\n",
    "# vurl = e.find_element(By.CSS_SELECTOR,'a#video-title-link').get_attribute('href')\n",
    "# views= e.find_element(By.XPATH,'.//*[@id=\"metadata\"]//span[@class=\"inline-metadata-item style-scope ytd-video-meta-block\"][1]').text\n",
    "# date_time = e.find_element(By.XPATH,'.//*[@id=\"metadata\"]//span[@class=\"inline-metadata-item style-scope ytd-video-meta-block\"][2]').text\n",
    "print(title)"
   ]
  },
  {
   "cell_type": "code",
   "execution_count": null,
   "metadata": {},
   "outputs": [],
   "source": [
    "# next btn xpath /html/body/ytd-app/div[1]/ytd-page-manager/ytd-browse/ytd-two-column-browse-results-renderer/div[1]/ytd-section-list-renderer/div[2]/ytd-item-section-renderer[1]/div[3]/ytd-shelf-renderer/div[1]/div[2]/yt-horizontal-list-renderer/div[3]/ytd-button-renderer/yt-button-shape/button/yt-touch-feedback-shape/div/div[2]"
   ]
  },
  {
   "cell_type": "code",
   "execution_count": 2,
   "metadata": {},
   "outputs": [
    {
     "ename": "AttributeError",
     "evalue": "'YoutubePlayer' object has no attribute 'play'",
     "output_type": "error",
     "traceback": [
      "\u001b[0;31m---------------------------------------------------------------------------\u001b[0m",
      "\u001b[0;31mAttributeError\u001b[0m                            Traceback (most recent call last)",
      "Cell \u001b[0;32mIn[2], line 4\u001b[0m\n\u001b[1;32m      1\u001b[0m \u001b[39m# player.load('https://www.youtube.com/watch?v=QH2-TGUlwu4')\u001b[39;00m\n\u001b[1;32m      2\u001b[0m \u001b[39m# loaad rickroll video\u001b[39;00m\n\u001b[1;32m      3\u001b[0m player\u001b[39m.\u001b[39mload(\u001b[39m'\u001b[39m\u001b[39mhttps://www.youtube.com/watch?v=dQw4w9WgXcQ\u001b[39m\u001b[39m'\u001b[39m)\n\u001b[0;32m----> 4\u001b[0m player\u001b[39m.\u001b[39;49mplay()\n",
      "\u001b[0;31mAttributeError\u001b[0m: 'YoutubePlayer' object has no attribute 'play'"
     ]
    }
   ],
   "source": [
    "# player.load('https://www.youtube.com/watch?v=QH2-TGUlwu4')\n",
    "# loaad rickroll video\n",
    "player.load('https://www.youtube.com/watch?v=dQw4w9WgXcQ')\n",
    "player.play()"
   ]
  },
  {
   "cell_type": "code",
   "execution_count": 2,
   "metadata": {},
   "outputs": [],
   "source": [
    "from ggservice import GDriveDownloader\n",
    "gdrive = GDriveDownloader('https://drive.google.com/u/0/uc?id=1VJtrE1ThtAxDKK1XhbfqNZpvD71FRULy&export=download', \n",
    "                          download_folder='./temp')\n",
    "gdrive.download()"
   ]
  },
  {
   "attachments": {},
   "cell_type": "markdown",
   "metadata": {},
   "source": [
    "https://www.youtube.com/channel/UC4R8DWoMoI7CAwX8_LjQHig"
   ]
  }
 ],
 "metadata": {
  "kernelspec": {
   "display_name": "venv10",
   "language": "python",
   "name": "python3"
  },
  "language_info": {
   "codemirror_mode": {
    "name": "ipython",
    "version": 3
   },
   "file_extension": ".py",
   "mimetype": "text/x-python",
   "name": "python",
   "nbconvert_exporter": "python",
   "pygments_lexer": "ipython3",
   "version": "3.10.9 (main, Jan 28 2023, 19:03:24) [GCC 9.4.0]"
  },
  "orig_nbformat": 4,
  "vscode": {
   "interpreter": {
    "hash": "4477559b2d24bb5c1b84f4a6a067c93d09e8b2dea014104168a579b4732acbcd"
   }
  }
 },
 "nbformat": 4,
 "nbformat_minor": 2
}
