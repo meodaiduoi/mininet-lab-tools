{
 "cells": [
  {
   "cell_type": "code",
   "execution_count": 2,
   "metadata": {},
   "outputs": [],
   "source": [
    "import numpy as np\n",
    "import pandas as pd\n",
    "import re\n",
    "import functools\n",
    "import os"
   ]
  },
  {
   "cell_type": "code",
   "execution_count": 3,
   "metadata": {},
   "outputs": [],
   "source": [
    "# int_payload_pad\n",
    "def convert_to_int(datas):\n",
    "    array = []\n",
    "    for data in datas:\n",
    "        try:\n",
    "            if data.index(':') > 0:\n",
    "                split_data = data.split(':')\n",
    "        except ValueError:\n",
    "            split_data = re.findall('.{1,2}', data)\n",
    "        int_payload = list(map(functools.partial(int, base=16), split_data))\n",
    "        int_payload = int_payload[0:1460]\n",
    "        int_payload_pad = np.pad(int_payload, (0, 1460-len(int_payload)), 'constant', constant_values=(0, 0))\n",
    "        array.append(int_payload_pad)\n",
    "    return array  "
   ]
  },
  {
   "cell_type": "code",
   "execution_count": 4,
   "metadata": {},
   "outputs": [],
   "source": [
    "def ls_subfolders(rootdir):\n",
    "    sub_folders_n_files = []\n",
    "    for path, _, files in os.walk(rootdir):\n",
    "        for name in files:\n",
    "            sub_folders_n_files.append(os.path.join(path, name))\n",
    "    return sorted(sub_folders_n_files)"
   ]
  },
  {
   "cell_type": "code",
   "execution_count": 5,
   "metadata": {},
   "outputs": [
    {
     "name": "stdout",
     "output_type": "stream",
     "text": [
      "GoogleHangout_VoIP_00001.csv\n"
     ]
    },
    {
     "ename": "",
     "evalue": "",
     "output_type": "error",
     "traceback": [
      "\u001b[1;31mCanceled future for execute_request message before replies were done"
     ]
    },
    {
     "ename": "",
     "evalue": "",
     "output_type": "error",
     "traceback": [
      "\u001b[1;31mThe Kernel crashed while executing code in the the current cell or a previous cell. Please review the code in the cell(s) to identify a possible cause of the failure. Click <a href='https://aka.ms/vscodeJupyterKernelCrash'>here</a> for more info. View Jupyter <a href='command:jupyter.viewOutput'>log</a> for further details."
     ]
    }
   ],
   "source": [
    "SAVED_LOC = './output/'\n",
    "for file_path in ls_subfolders('./rawds/'):\n",
    "    # construct saved file path\n",
    "    _, filename = os.path.split(file_path)\n",
    "    saved_loc = os.path.normpath(file_path).split(os.sep)[1:-1]\n",
    "    saved_file_loc = f'''{SAVED_LOC}/{os.path.join(*saved_loc)}/{filename.split('.')[0]}.csv'''\n",
    "        \n",
    "    # check if folder exists if not create it\n",
    "    if not os.path.exists(os.path.join(SAVED_LOC, *saved_loc)): \n",
    "        os.makedirs(os.path.join(SAVED_LOC, *saved_loc))\n",
    "        print(f'''Created folder: {os.path.join(SAVED_LOC, *saved_loc)}''')\n",
    "\n",
    "    # check if file already exists\n",
    "    if os.path.exists(saved_file_loc): continue\n",
    "    print(filename)\n",
    "    \n",
    "    df = pd.read_csv(file_path)\n",
    "    int_payload = convert_to_int(df['data'])\n",
    "    df = pd.concat([df, pd.DataFrame(int_payload)], axis=1)\n",
    "    df.to_csv(saved_file_loc, index=False)"
   ]
  },
  {
   "cell_type": "code",
   "execution_count": null,
   "metadata": {},
   "outputs": [],
   "source": []
  }
 ],
 "metadata": {
  "kernelspec": {
   "display_name": "venv11",
   "language": "python",
   "name": "python3"
  },
  "language_info": {
   "codemirror_mode": {
    "name": "ipython",
    "version": 3
   },
   "file_extension": ".py",
   "mimetype": "text/x-python",
   "name": "python",
   "nbconvert_exporter": "python",
   "pygments_lexer": "ipython3",
   "version": "3.11.0 (main, Oct 24 2022, 19:55:51) [GCC 9.4.0]"
  },
  "orig_nbformat": 4,
  "vscode": {
   "interpreter": {
    "hash": "27785eb6261c531f8a774afce1d948e22fe326c0b799ca4fbc95c4c3398b758e"
   }
  }
 },
 "nbformat": 4,
 "nbformat_minor": 2
}
