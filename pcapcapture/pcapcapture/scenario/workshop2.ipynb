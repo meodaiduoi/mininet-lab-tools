{
 "cells": [
  {
   "cell_type": "code",
   "execution_count": 3,
   "metadata": {},
   "outputs": [],
   "source": [
    "import os, sys, time\n",
    "sys.path.insert(1, '../' )\n",
    "from webcapture.utils import *\n",
    "\n",
    "media = FFMPEGVideoStream()\n",
    "media.play('/home/onos/Desktop/media/Therapist Teaches You How To Open Up.mp4')"
   ]
  },
  {
   "cell_type": "code",
   "execution_count": 9,
   "metadata": {},
   "outputs": [
    {
     "name": "stderr",
     "output_type": "stream",
     "text": [
      "Capturing on 'ens33'\n",
      " ** (tshark:366699) 21:43:33.041482 [Main MESSAGE] -- Capture started.\n",
      " ** (tshark:366699) 21:43:33.041527 [Main MESSAGE] -- File: \"/tmp/wireshark_ens33LZL631.pcapng\"\n"
     ]
    }
   ],
   "source": [
    "# subprocess.Popen('tshark').returncode"
   ]
  },
  {
   "cell_type": "code",
   "execution_count": 2,
   "metadata": {},
   "outputs": [
    {
     "data": {
      "text/plain": [
       "<Popen: returncode: None args: 'ffmpeg -stream_loop -1 -re -i \"/home/onos/De...>"
      ]
     },
     "execution_count": 2,
     "metadata": {},
     "output_type": "execute_result"
    }
   ],
   "source": [
    "# import subprocess\n",
    "# video_path = '/home/onos/Desktop/media/Therapist Teaches You How To Open Up.mp4'\n",
    "# subprocess.Popen(f'ffmpeg -stream_loop -1 -re -i \"{video_path}\" -f v4l2 /dev/video10',\n",
    "#                     stdout=subprocess.PIPE, stderr=subprocess.PIPE, shell=True)"
   ]
  },
  {
   "cell_type": "code",
   "execution_count": 4,
   "metadata": {},
   "outputs": [
    {
     "name": "stderr",
     "output_type": "stream",
     "text": [
      "ERROR:root:Error: ffmpeg Video process terminated with non-zero return code\n",
      "ERROR:root:Error: ffmpeg Audio process terminated with non-zero return code\n"
     ]
    },
    {
     "name": "stdout",
     "output_type": "stream",
     "text": [
      "255\n",
      "255\n"
     ]
    }
   ],
   "source": [
    "media.terminate()"
   ]
  }
 ],
 "metadata": {
  "kernelspec": {
   "display_name": "venv10",
   "language": "python",
   "name": "python3"
  },
  "language_info": {
   "codemirror_mode": {
    "name": "ipython",
    "version": 3
   },
   "file_extension": ".py",
   "mimetype": "text/x-python",
   "name": "python",
   "nbconvert_exporter": "python",
   "pygments_lexer": "ipython3",
   "version": "3.10.11"
  },
  "orig_nbformat": 4
 },
 "nbformat": 4,
 "nbformat_minor": 2
}
